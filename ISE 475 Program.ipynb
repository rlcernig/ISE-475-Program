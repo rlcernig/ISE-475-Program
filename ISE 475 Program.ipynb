{
 "cells": [
  {
   "cell_type": "code",
   "execution_count": null,
   "id": "622ac8e9",
   "metadata": {},
   "outputs": [],
   "source": [
    "import pandas as pd\n",
    "import numpy as np\n",
    "from pandasgui import show\n",
    "import plotly.express as px\n",
    "\n",
    "df = pd.DataFrame(pd.read_excel(r\"C:\\Users\\Eugene\\Downloads\\2021_SCUCWestDataLogsTotalRoomStatus.xlsx\",header=[None]))\n",
    "\n",
    "# Imports the needed libraries and adds the excel file as a dataframe\n",
    "\n",
    "df"
   ]
  },
  {
   "cell_type": "code",
   "execution_count": null,
   "id": "4e966694",
   "metadata": {},
   "outputs": [],
   "source": [
    "df.columns = [\"Time\", \"Room\", \"Availability\"]\n",
    "\n",
    "# Rename the header to approriate titles\n",
    "\n",
    "df"
   ]
  },
  {
   "cell_type": "code",
   "execution_count": null,
   "id": "a2467747",
   "metadata": {},
   "outputs": [],
   "source": [
    "df = df[df[\"Availability\"].str.contains(\"Beginning cleaning.\")==False]\n",
    "\n",
    "# Remove all rows that contain \"Beginning cleaning\" as it does not provide any information\n",
    "\n",
    "df"
   ]
  },
  {
   "cell_type": "code",
   "execution_count": null,
   "id": "09c05000",
   "metadata": {},
   "outputs": [],
   "source": [
    "triage_station1 = df[df['Room'].str.contains('Triage Station 1')]\n",
    "triage_station1 = triage_station1.reset_index()\n",
    "del triage_station1['index']\n",
    "\n",
    "# Create a new dataframe for a specific room\n",
    "# Reset the indexing so it is starts from zero and iterates by 1\n",
    "\n",
    "triage_station1"
   ]
  },
  {
   "cell_type": "code",
   "execution_count": null,
   "id": "dba14c8e",
   "metadata": {},
   "outputs": [],
   "source": [
    "triage1df1 = triage_station1[triage_station1.index % 2 == 0]\n",
    "triage1df1 = triage1df1.reset_index()\n",
    "del triage1df1['index']\n",
    "\n",
    "# Create a new dataframe for Room unavailable by indexing every other line starting with 0\n",
    "# Reset the indexing so it is starts from zero and iterates by 1\n",
    "\n",
    "triage1df1"
   ]
  },
  {
   "cell_type": "code",
   "execution_count": null,
   "id": "71a951b0",
   "metadata": {},
   "outputs": [],
   "source": [
    "triage1df2 = triage_station1[triage_station1.index % 2 != 0]\n",
    "triage1df2 = triage1df2.reset_index()\n",
    "del triage1df2['index']\n",
    "\n",
    "# Create a new dataframe for Room available by indexing every other line starting with 1\n",
    "# Reset the indexing so it is starts from zero and iterates by 1\n",
    "\n",
    "triage1df2"
   ]
  },
  {
   "cell_type": "code",
   "execution_count": null,
   "id": "0b094346",
   "metadata": {},
   "outputs": [],
   "source": [
    "dftriage1time=triage1df2['Time'] - triage1df1['Time']\n",
    "\n",
    "# Find the difference between room available and room unavailable \n",
    "\n",
    "dftriage1time"
   ]
  },
  {
   "cell_type": "code",
   "execution_count": null,
   "id": "4acfa2b4",
   "metadata": {},
   "outputs": [],
   "source": [
    "triage1time=dftriage1time.sum()\n",
    "\n",
    "# Sum all the times in the dataframe\n",
    "\n",
    "triage1time"
   ]
  },
  {
   "cell_type": "code",
   "execution_count": null,
   "id": "15986b08",
   "metadata": {},
   "outputs": [],
   "source": [
    "triage_station2 = df[df['Room'].str.contains('Triage Station 2')]\n",
    "triage_station2 = triage_station2.reset_index()\n",
    "del triage_station2['index']\n",
    "\n",
    "# Repeat this process for every room in the data\n",
    "\n",
    "triage_station2"
   ]
  },
  {
   "cell_type": "code",
   "execution_count": null,
   "id": "0ec7ed73",
   "metadata": {},
   "outputs": [],
   "source": [
    "triage2df1 = triage_station2[triage_station2.index % 2 == 0]\n",
    "triage2df1 = triage2df1.reset_index()\n",
    "del triage2df1['index']\n",
    "\n",
    "triage2df1"
   ]
  },
  {
   "cell_type": "code",
   "execution_count": null,
   "id": "e1b28920",
   "metadata": {},
   "outputs": [],
   "source": [
    "triage2df2 = triage_station2[triage_station2.index % 2 != 0]\n",
    "triage2df2 = triage2df2.reset_index()\n",
    "del triage2df2['index']\n",
    "\n",
    "triage2df2"
   ]
  },
  {
   "cell_type": "code",
   "execution_count": null,
   "id": "abf474bb",
   "metadata": {},
   "outputs": [],
   "source": [
    "dftriage2time=triage2df2['Time'] - triage2df1['Time']\n",
    "dftriage2time"
   ]
  },
  {
   "cell_type": "code",
   "execution_count": null,
   "id": "3e8b666e",
   "metadata": {},
   "outputs": [],
   "source": [
    "triage2time=dftriage2time.sum()\n",
    "triage2time"
   ]
  },
  {
   "cell_type": "code",
   "execution_count": null,
   "id": "88fae55e",
   "metadata": {},
   "outputs": [],
   "source": [
    "triage_station3 = df[df['Room'].str.contains('Triage Station 3')]\n",
    "triage_station3 = triage_station3.reset_index()\n",
    "del triage_station3['index']\n",
    "\n",
    "triage_station3"
   ]
  },
  {
   "cell_type": "code",
   "execution_count": null,
   "id": "ba895889",
   "metadata": {},
   "outputs": [],
   "source": [
    "triage3df1 = triage_station3[triage_station3.index % 2 == 0]\n",
    "triage3df1 = triage3df1.reset_index()\n",
    "del triage3df1['index']\n",
    "\n",
    "triage3df1"
   ]
  },
  {
   "cell_type": "code",
   "execution_count": null,
   "id": "74661d93",
   "metadata": {},
   "outputs": [],
   "source": [
    "triage3df2 = triage_station3[triage_station3.index % 2 != 0]\n",
    "triage3df2 = triage3df2.reset_index()\n",
    "del triage3df2['index']\n",
    "\n",
    "triage3df2"
   ]
  },
  {
   "cell_type": "code",
   "execution_count": null,
   "id": "870e1441",
   "metadata": {},
   "outputs": [],
   "source": [
    "dftriage3time=triage3df2['Time'] - triage3df1['Time']\n",
    "dftriage3time"
   ]
  },
  {
   "cell_type": "code",
   "execution_count": null,
   "id": "89c456a4",
   "metadata": {},
   "outputs": [],
   "source": [
    "triage3time=dftriage3time.sum()\n",
    "triage3time"
   ]
  },
  {
   "cell_type": "code",
   "execution_count": null,
   "id": "b88f1980",
   "metadata": {},
   "outputs": [],
   "source": [
    "triage_station4 = df[df['Room'].str.contains('Triage Station 4')]\n",
    "triage_station4 = triage_station4.reset_index()\n",
    "del triage_station4['index']\n",
    "\n",
    "\n",
    "triage_station4"
   ]
  },
  {
   "cell_type": "code",
   "execution_count": null,
   "id": "5c03cb7d",
   "metadata": {},
   "outputs": [],
   "source": [
    "triage4df1 = triage_station4[triage_station4.index % 2 == 0]\n",
    "triage4df1 = triage4df1.reset_index()\n",
    "del triage4df1['index']\n",
    "\n",
    "triage4df1"
   ]
  },
  {
   "cell_type": "code",
   "execution_count": null,
   "id": "95bcc7f6",
   "metadata": {},
   "outputs": [],
   "source": [
    "triage4df2= triage_station4[triage_station4.index % 2 != 0]\n",
    "triage4df2= triage4df2.reset_index()\n",
    "del triage4df2['index']\n",
    "\n",
    "triage4df2"
   ]
  },
  {
   "cell_type": "code",
   "execution_count": null,
   "id": "ea6d655c",
   "metadata": {},
   "outputs": [],
   "source": [
    "dftriage4time=triage4df2['Time'] - triage4df1['Time']\n",
    "dftriage4time"
   ]
  },
  {
   "cell_type": "code",
   "execution_count": null,
   "id": "9c2f7c70",
   "metadata": {},
   "outputs": [],
   "source": [
    "triage4time=dftriage4time.sum()\n",
    "triage4time"
   ]
  },
  {
   "cell_type": "code",
   "execution_count": null,
   "id": "c7198065",
   "metadata": {},
   "outputs": [],
   "source": [
    "procedure_room1 = df[df['Room'].str.contains('Procedure Room 1')]\n",
    "procedure_room1 = procedure_room1.reset_index()\n",
    "del procedure_room1['index']\n",
    "\n",
    "\n",
    "procedure_room1"
   ]
  },
  {
   "cell_type": "code",
   "execution_count": null,
   "id": "9a41c79a",
   "metadata": {},
   "outputs": [],
   "source": [
    "procedure1df1 = procedure_room1[procedure_room1.index % 2 == 0]\n",
    "procedure1df1 = procedure1df1.reset_index()\n",
    "del procedure1df1['index']\n",
    "\n",
    "procedure1df1"
   ]
  },
  {
   "cell_type": "code",
   "execution_count": null,
   "id": "9b960502",
   "metadata": {},
   "outputs": [],
   "source": [
    "procedure1df2 = procedure_room1[procedure_room1.index % 2 != 0]\n",
    "procedure1df2 = procedure1df2.reset_index()\n",
    "del procedure1df2['index']\n",
    "\n",
    "procedure1df2"
   ]
  },
  {
   "cell_type": "code",
   "execution_count": null,
   "id": "b9633f6c",
   "metadata": {},
   "outputs": [],
   "source": [
    "dfprocedure1time=procedure1df2['Time'] - procedure1df1['Time']\n",
    "dfprocedure1time"
   ]
  },
  {
   "cell_type": "code",
   "execution_count": null,
   "id": "6500d22b",
   "metadata": {},
   "outputs": [],
   "source": [
    "procedure1time=dfprocedure1time.sum()\n",
    "procedure1time"
   ]
  },
  {
   "cell_type": "code",
   "execution_count": null,
   "id": "3d2814f1",
   "metadata": {},
   "outputs": [],
   "source": [
    "procedure_room2 = df[df['Room'].str.contains('Procedure Room 2')]\n",
    "procedure_room2 = procedure_room2.reset_index()\n",
    "del procedure_room2['index']\n",
    "\n",
    "procedure_room2"
   ]
  },
  {
   "cell_type": "code",
   "execution_count": null,
   "id": "7f33e458",
   "metadata": {},
   "outputs": [],
   "source": [
    "procedure2df1 = procedure_room2[procedure_room2.index % 2 == 0]\n",
    "procedure2df1 = procedure2df1.reset_index()\n",
    "del procedure2df1['index']\n",
    "\n",
    "procedure2df1"
   ]
  },
  {
   "cell_type": "code",
   "execution_count": null,
   "id": "b5f8b6c8",
   "metadata": {},
   "outputs": [],
   "source": [
    "procedure2df2 = procedure_room2[procedure_room2.index % 2 != 0]\n",
    "procedure2df2 = procedure2df2.reset_index()\n",
    "del procedure2df2['index']\n",
    "\n",
    "procedure2df2"
   ]
  },
  {
   "cell_type": "code",
   "execution_count": null,
   "id": "bb5ec273",
   "metadata": {},
   "outputs": [],
   "source": [
    "dfprocedure2time=procedure2df2['Time'] - procedure2df1['Time']\n",
    "dfprocedure2time"
   ]
  },
  {
   "cell_type": "code",
   "execution_count": null,
   "id": "3493786c",
   "metadata": {},
   "outputs": [],
   "source": [
    "procedure2time=dfprocedure2time.sum()\n",
    "procedure2time"
   ]
  },
  {
   "cell_type": "code",
   "execution_count": null,
   "id": "d37f8f4f",
   "metadata": {},
   "outputs": [],
   "source": [
    "procedure_room3 = df[df['Room'].str.contains('Procedure Room 3')]\n",
    "procedure_room3 = procedure_room3.reset_index()\n",
    "del procedure_room3['index']\n",
    "\n",
    "procedure_room3"
   ]
  },
  {
   "cell_type": "code",
   "execution_count": null,
   "id": "3cecb46d",
   "metadata": {},
   "outputs": [],
   "source": [
    "procedure3df1 = procedure_room3[procedure_room3.index % 2 == 0]\n",
    "procedure3df1 = procedure3df1.reset_index()\n",
    "del procedure3df1['index']\n",
    "\n",
    "procedure3df1"
   ]
  },
  {
   "cell_type": "code",
   "execution_count": null,
   "id": "34138bf3",
   "metadata": {},
   "outputs": [],
   "source": [
    "procedure3df2 = procedure_room3[procedure_room3.index % 2 != 0]\n",
    "procedure3df2 = procedure3df2.reset_index()\n",
    "del procedure3df2['index']\n",
    "\n",
    "procedure3df2"
   ]
  },
  {
   "cell_type": "code",
   "execution_count": null,
   "id": "1aebedca",
   "metadata": {},
   "outputs": [],
   "source": [
    "dfprocedure3time=procedure3df2['Time'] - procedure3df1['Time']\n",
    "dfprocedure3time"
   ]
  },
  {
   "cell_type": "code",
   "execution_count": null,
   "id": "ea1e8b16",
   "metadata": {},
   "outputs": [],
   "source": [
    "procedure3time=dfprocedure3time.sum()\n",
    "procedure3time"
   ]
  },
  {
   "cell_type": "code",
   "execution_count": null,
   "id": "92a4291d",
   "metadata": {},
   "outputs": [],
   "source": [
    "procedure_room4 = df[df['Room'].str.contains('Procedure Room 4')]\n",
    "procedure_room4 = procedure_room4.reset_index()\n",
    "del procedure_room4['index']\n",
    "\n",
    "procedure_room4"
   ]
  },
  {
   "cell_type": "code",
   "execution_count": null,
   "id": "594f0ccc",
   "metadata": {},
   "outputs": [],
   "source": [
    "procedure4df1 = procedure_room4[procedure_room4.index % 2 == 0]\n",
    "procedure4df1 = procedure4df1.reset_index()\n",
    "del procedure4df1['index']\n",
    "\n",
    "procedure4df1"
   ]
  },
  {
   "cell_type": "code",
   "execution_count": null,
   "id": "67c4672c",
   "metadata": {},
   "outputs": [],
   "source": [
    "procedure4df2 = procedure_room4[procedure_room4.index % 2 != 0]\n",
    "procedure4df2 = procedure4df2.reset_index()\n",
    "del procedure4df2['index']\n",
    "\n",
    "procedure4df2"
   ]
  },
  {
   "cell_type": "code",
   "execution_count": null,
   "id": "262e5df8",
   "metadata": {},
   "outputs": [],
   "source": [
    "dfprocedure4time=procedure4df2['Time'] - procedure4df1['Time']\n",
    "dfprocedure4time"
   ]
  },
  {
   "cell_type": "code",
   "execution_count": null,
   "id": "76d1f9e1",
   "metadata": {},
   "outputs": [],
   "source": [
    "procedure4time=dfprocedure4time.sum()\n",
    "procedure4time"
   ]
  },
  {
   "cell_type": "code",
   "execution_count": null,
   "id": "c6f2eee0",
   "metadata": {},
   "outputs": [],
   "source": [
    "exam_room1 = df[df['Room'].str.contains('Exam Room 1')]\n",
    "exam_room1 = exam_room1.reset_index()\n",
    "del exam_room1['index']\n",
    "\n",
    "exam_room1"
   ]
  },
  {
   "cell_type": "code",
   "execution_count": null,
   "id": "2ee1ac0e",
   "metadata": {},
   "outputs": [],
   "source": [
    "exam1df1 = exam_room1[exam_room1.index % 2 == 0]\n",
    "exam1df1 = exam1df1.reset_index()\n",
    "del exam1df1['index']\n",
    "\n",
    "exam1df1"
   ]
  },
  {
   "cell_type": "code",
   "execution_count": null,
   "id": "87bf57ec",
   "metadata": {},
   "outputs": [],
   "source": [
    "exam1df2 = exam_room1[exam_room1.index % 2 != 0]\n",
    "exam1df2 = exam1df2.reset_index()\n",
    "del exam1df2['index']\n",
    "\n",
    "exam1df2"
   ]
  },
  {
   "cell_type": "code",
   "execution_count": null,
   "id": "4c826be3",
   "metadata": {},
   "outputs": [],
   "source": [
    "dfexam1time=exam1df2['Time'] - exam1df1['Time']\n",
    "dfexam1time"
   ]
  },
  {
   "cell_type": "code",
   "execution_count": null,
   "id": "ce073002",
   "metadata": {},
   "outputs": [],
   "source": [
    "exam1time=dfexam1time.sum()\n",
    "exam1time"
   ]
  },
  {
   "cell_type": "code",
   "execution_count": null,
   "id": "fd80e35a",
   "metadata": {},
   "outputs": [],
   "source": [
    "exam_room2 = df[df['Room'].str.contains('Exam Room 2')]\n",
    "exam_room2 = exam_room2.reset_index()\n",
    "del exam_room2['index']\n",
    "\n",
    "exam_room2"
   ]
  },
  {
   "cell_type": "code",
   "execution_count": null,
   "id": "8b5f917e",
   "metadata": {},
   "outputs": [],
   "source": [
    "exam2df1 = exam_room2[exam_room2.index % 2 == 0]\n",
    "exam2df1 = exam2df1.reset_index()\n",
    "del exam2df1['index']\n",
    "\n",
    "exam2df1"
   ]
  },
  {
   "cell_type": "code",
   "execution_count": null,
   "id": "ecc19ac3",
   "metadata": {},
   "outputs": [],
   "source": [
    "exam2df2 = exam_room2[exam_room2.index % 2 != 0]\n",
    "exam2df2 = exam2df2.reset_index()\n",
    "del exam2df2['index']\n",
    "\n",
    "exam2df2"
   ]
  },
  {
   "cell_type": "code",
   "execution_count": null,
   "id": "e46d66a3",
   "metadata": {},
   "outputs": [],
   "source": [
    "dfexam2time=exam2df2['Time'] - exam2df1['Time']\n",
    "dfexam2time"
   ]
  },
  {
   "cell_type": "code",
   "execution_count": null,
   "id": "2f9725ed",
   "metadata": {},
   "outputs": [],
   "source": [
    "exam2time=dfexam2time.sum()\n",
    "exam2time"
   ]
  },
  {
   "cell_type": "code",
   "execution_count": null,
   "id": "e16a9616",
   "metadata": {},
   "outputs": [],
   "source": [
    "exam_room3 = df[df['Room'].str.contains('Exam Room 3')]\n",
    "exam_room3 = exam_room3.reset_index()\n",
    "del exam_room3['index']\n",
    "\n",
    "exam_room3"
   ]
  },
  {
   "cell_type": "code",
   "execution_count": null,
   "id": "e66d9745",
   "metadata": {},
   "outputs": [],
   "source": [
    "exam3df1 = exam_room3[exam_room3.index % 2 == 0]\n",
    "exam3df1 = exam3df1.reset_index()\n",
    "del exam3df1['index']\n",
    "\n",
    "exam3df1"
   ]
  },
  {
   "cell_type": "code",
   "execution_count": null,
   "id": "d16569d8",
   "metadata": {},
   "outputs": [],
   "source": [
    "exam3df2 = exam_room3[exam_room3.index % 2 != 0]\n",
    "exam3df2 = exam3df2.reset_index()\n",
    "del exam3df2['index']\n",
    "\n",
    "exam3df2"
   ]
  },
  {
   "cell_type": "code",
   "execution_count": null,
   "id": "54ca9da6",
   "metadata": {},
   "outputs": [],
   "source": [
    "dfexam3time=exam3df2['Time'] - exam3df1['Time']\n",
    "dfexam3time"
   ]
  },
  {
   "cell_type": "code",
   "execution_count": null,
   "id": "3136b7c7",
   "metadata": {},
   "outputs": [],
   "source": [
    "exam3time=dfexam3time.sum()\n",
    "exam3time"
   ]
  },
  {
   "cell_type": "code",
   "execution_count": null,
   "id": "0ac3911f",
   "metadata": {},
   "outputs": [],
   "source": [
    "exam_room4 = df[df['Room'].str.contains('Exam Room 4')]\n",
    "exam_room4 = exam_room4.reset_index()\n",
    "del exam_room4['index']\n",
    "\n",
    "exam_room4"
   ]
  },
  {
   "cell_type": "code",
   "execution_count": null,
   "id": "e3d5cdec",
   "metadata": {},
   "outputs": [],
   "source": [
    "exam4df1 = exam_room4[exam_room4.index % 2 == 0]\n",
    "exam4df1 = exam4df1.reset_index()\n",
    "del exam4df1['index']\n",
    "\n",
    "exam4df1"
   ]
  },
  {
   "cell_type": "code",
   "execution_count": null,
   "id": "34c3c805",
   "metadata": {},
   "outputs": [],
   "source": [
    "exam4df2 = exam_room4[exam_room4.index % 2 != 0]\n",
    "exam4df2 = exam4df2.reset_index()\n",
    "del exam4df2['index']\n",
    "\n",
    "exam4df2"
   ]
  },
  {
   "cell_type": "code",
   "execution_count": null,
   "id": "5bb2022c",
   "metadata": {},
   "outputs": [],
   "source": [
    "dfexam4time=exam4df2['Time'] - exam4df1['Time']\n",
    "dfexam4time"
   ]
  },
  {
   "cell_type": "code",
   "execution_count": null,
   "id": "a49db524",
   "metadata": {},
   "outputs": [],
   "source": [
    "exam4time=dfexam4time.sum()\n",
    "exam4time"
   ]
  },
  {
   "cell_type": "code",
   "execution_count": null,
   "id": "a3ef7071",
   "metadata": {},
   "outputs": [],
   "source": [
    "imaging_room = df[df['Room'].str.contains('Imaging Room')]\n",
    "\n",
    "imaging_room"
   ]
  },
  {
   "cell_type": "code",
   "execution_count": null,
   "id": "25519401",
   "metadata": {},
   "outputs": [],
   "source": [
    "imaging_room = imaging_room.reset_index()\n",
    "del imaging_room['index']\n",
    "\n",
    "imaging_room"
   ]
  },
  {
   "cell_type": "code",
   "execution_count": null,
   "id": "9cf0a6bb",
   "metadata": {},
   "outputs": [],
   "source": [
    "imagingdf1 = imaging_room[imaging_room.index % 2 == 0]\n",
    "imagingdf1 = imagingdf1.reset_index()\n",
    "del imagingdf1['index']\n",
    "\n",
    "\n",
    "imagingdf1"
   ]
  },
  {
   "cell_type": "code",
   "execution_count": null,
   "id": "8053d24e",
   "metadata": {},
   "outputs": [],
   "source": [
    "imagingdf2 = imaging_room[imaging_room.index % 2 != 0]\n",
    "imagingdf2 = imagingdf2.reset_index()\n",
    "del imagingdf2['index']\n",
    "\n",
    "\n",
    "imagingdf2"
   ]
  },
  {
   "cell_type": "code",
   "execution_count": null,
   "id": "ef03d048",
   "metadata": {},
   "outputs": [],
   "source": [
    "dfimagingtime=imagingdf2['Time'] - imagingdf1['Time']\n",
    "dfimagingtime"
   ]
  },
  {
   "cell_type": "code",
   "execution_count": null,
   "id": "1f750c8a",
   "metadata": {},
   "outputs": [],
   "source": [
    "imagingtime=dfimagingtime.sum()\n",
    "imagingsecs=imagingtime.total_seconds()\n",
    "\n",
    "# Convert timedelta64 to seconds\n",
    "\n",
    "imagingsecs"
   ]
  },
  {
   "cell_type": "code",
   "execution_count": null,
   "id": "b9f14ec0",
   "metadata": {},
   "outputs": [],
   "source": [
    "triage1secs=triage1time.total_seconds()\n",
    "triage2secs=triage2time.total_seconds()\n",
    "triage3secs=triage3time.total_seconds()\n",
    "triage4secs=triage4time.total_seconds()\n",
    "\n",
    "# Convert timedelta64 to seconds and repeat for every room"
   ]
  },
  {
   "cell_type": "code",
   "execution_count": null,
   "id": "fe12e112",
   "metadata": {},
   "outputs": [],
   "source": [
    "triagesecs=triage1secs+triage2secs+triage3secs+triage4secs\n",
    "\n",
    "# Add up all time in seconds to find each room type total and repeat\n",
    "\n",
    "triagesecs"
   ]
  },
  {
   "cell_type": "code",
   "execution_count": null,
   "id": "a9d2c593",
   "metadata": {},
   "outputs": [],
   "source": [
    "procedure1secs=procedure1time.total_seconds()\n",
    "procedure2secs=procedure2time.total_seconds()\n",
    "procedure3secs=procedure3time.total_seconds()\n",
    "procedure4secs=procedure4time.total_seconds()"
   ]
  },
  {
   "cell_type": "code",
   "execution_count": null,
   "id": "674a7e87",
   "metadata": {},
   "outputs": [],
   "source": [
    "proceduresecs=procedure1secs+procedure2secs+procedure3secs+procedure4secs\n",
    "proceduresecs"
   ]
  },
  {
   "cell_type": "code",
   "execution_count": null,
   "id": "133401e7",
   "metadata": {},
   "outputs": [],
   "source": [
    "exam1secs=exam1time.total_seconds()\n",
    "exam2secs=exam2time.total_seconds()\n",
    "exam3secs=exam3time.total_seconds()\n",
    "exam4secs=exam4time.total_seconds()"
   ]
  },
  {
   "cell_type": "code",
   "execution_count": null,
   "id": "ea34f2d0",
   "metadata": {},
   "outputs": [],
   "source": [
    "examsecs=exam1secs+exam2secs+exam3secs+exam4secs\n",
    "examsecs"
   ]
  },
  {
   "cell_type": "code",
   "execution_count": null,
   "id": "20a96086",
   "metadata": {},
   "outputs": [],
   "source": [
    "data1 = {'Room': ['Triage Station','Procedure Room','Exam Room','Imaging Room'], 'Time In Use (s)': [triagesecs, proceduresecs, examsecs, imagingsecs]}\n",
    "timedifference1 = pd.DataFrame(data1)\n",
    "\n",
    "# Create a new dataframe to be graphed using total time by room type\n",
    "\n",
    "timedifference1"
   ]
  },
  {
   "cell_type": "code",
   "execution_count": null,
   "id": "b0ad5d44",
   "metadata": {
    "scrolled": true
   },
   "outputs": [],
   "source": [
    "data2 = {'Room': ['Triage Station 1','Triage Station 2','Triage Station 3','Triage Station 4','Procedure Room 1','Procedure Room 2','Procedure Room 3','Procedure Room 4','Exam Room 1', 'Exam Room 2','Exam Room 3','Exam Room 4','Imaging Room'], 'Time In Use (s)': [triage1secs,triage2secs,triage3secs,triage4secs,procedure1secs,procedure2secs,procedure3secs,procedure4secs,exam1secs,exam2secs,exam3secs,exam4secs,imagingsecs]}\n",
    "timedifference2 = pd.DataFrame(data2)\n",
    "\n",
    "# Create a new dataframe to be graphed using the total time for each room type\n",
    "\n",
    "timedifference2"
   ]
  },
  {
   "cell_type": "code",
   "execution_count": null,
   "id": "537f0634",
   "metadata": {},
   "outputs": [],
   "source": [
    "gui1=show(timedifference1)\n",
    "\n",
    "# Opens pandasgui for the total time for each room type dataframe "
   ]
  },
  {
   "cell_type": "code",
   "execution_count": null,
   "id": "a92b570f",
   "metadata": {
    "scrolled": true
   },
   "outputs": [],
   "source": [
    "if None is not None or None is not None:\n",
    "    raise NotImplementedError\n",
    "fig = px.pie(data_frame=timedifference1, names='Room', values='Time In Use (s)', color=None, \n",
    "title=\"Total Room Usage Grouped by Type\",             \n",
    "    )\n",
    "show(fig)\n",
    "\n",
    "# Pie graph displayed in pandasgui for total time for each room type"
   ]
  },
  {
   "cell_type": "code",
   "execution_count": null,
   "id": "7280aa25",
   "metadata": {},
   "outputs": [],
   "source": [
    "key_cols = [val for val in ['Room', None, None, None] if val is not None]\n",
    "if key_cols != []:\n",
    "    if 'sum' is not None:\n",
    "        timedifference1 = timedifference1.groupby(key_cols).agg('sum').reset_index()\n",
    "    else:\n",
    "        timedifference1 = timedifference1.sort_values(key_cols)\n",
    "fig = px.bar(data_frame=timedifference1, x='Room', y='Time In Use (s)', color=None, \n",
    "title=\"Total Room Usage Grouped by Type\",             \n",
    "    facet_row=None, facet_col=None, )\n",
    "show(fig)\n",
    "\n",
    "# Bar graph displayed in pandasgui for total time for each room type"
   ]
  },
  {
   "cell_type": "code",
   "execution_count": null,
   "id": "7fea0218",
   "metadata": {},
   "outputs": [],
   "source": [
    "gui2=show(timedifference2)\n",
    "\n",
    "# Opens pandasgui for the total time for each room dataframe "
   ]
  },
  {
   "cell_type": "code",
   "execution_count": null,
   "id": "6251e397",
   "metadata": {},
   "outputs": [],
   "source": [
    "if None is not None or None is not None:\n",
    "    raise NotImplementedError\n",
    "fig = px.pie(data_frame=timedifference2, names='Room', values='Time In Use (s)', color=None, \n",
    "title=\"Total Room Usage\",             \n",
    "    )\n",
    "show(fig)\n",
    "\n",
    "# Pie graph displayed in pandasgui for total time for each room"
   ]
  },
  {
   "cell_type": "code",
   "execution_count": null,
   "id": "143203c0",
   "metadata": {},
   "outputs": [],
   "source": [
    "key_cols = [val for val in ['Room', None, None, None] if val is not None]\n",
    "if key_cols != []:\n",
    "    if 'sum' is not None:\n",
    "        timedifference2 = timedifference2.groupby(key_cols).agg('sum').reset_index()\n",
    "    else:\n",
    "        timedifference2 = timedifference2.sort_values(key_cols)\n",
    "fig = px.bar(data_frame=timedifference2, x='Room', y='Time In Use (s)', color=None, \n",
    "title=\"Total Room Usage\",             \n",
    "    facet_row=None, facet_col=None, )\n",
    "show(fig)\n",
    "\n",
    "# Bar graph displayed in pandasgui for total time for each room "
   ]
  },
  {
   "cell_type": "code",
   "execution_count": null,
   "id": "8ebc2e4d",
   "metadata": {},
   "outputs": [],
   "source": []
  }
 ],
 "metadata": {
  "kernelspec": {
   "display_name": "Python 3",
   "language": "python",
   "name": "python3"
  },
  "language_info": {
   "codemirror_mode": {
    "name": "ipython",
    "version": 3
   },
   "file_extension": ".py",
   "mimetype": "text/x-python",
   "name": "python",
   "nbconvert_exporter": "python",
   "pygments_lexer": "ipython3",
   "version": "3.8.8"
  }
 },
 "nbformat": 4,
 "nbformat_minor": 5
}
